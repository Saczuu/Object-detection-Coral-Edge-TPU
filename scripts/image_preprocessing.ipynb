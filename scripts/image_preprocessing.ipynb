{
 "cells": [
  {
   "cell_type": "code",
   "execution_count": 11,
   "metadata": {},
   "outputs": [],
   "source": [
    "from imagesPrepering import ImagesForModel"
   ]
  },
  {
   "cell_type": "code",
   "execution_count": 12,
   "metadata": {},
   "outputs": [],
   "source": [
    "img = ImagesForModel()\n",
    "img.createTriangle()\n",
    "img.createSquare()"
   ]
  },
  {
   "cell_type": "markdown",
   "metadata": {},
   "source": [
    "Kwadrat"
   ]
  },
  {
   "cell_type": "code",
   "execution_count": 7,
   "metadata": {},
   "outputs": [],
   "source": [
    "try:\n",
    "    os.mkdir(\"../images/preproces\")\n",
    "    os.mkdir(\"../images/preproces/square\")\n",
    "except:\n",
    "    pass\n",
    "img.copyFilesToAnotherFolder(\"../images/square\", \"../images/preproces/square\", \"square_\")"
   ]
  },
  {
   "cell_type": "code",
   "execution_count": 41,
   "metadata": {},
   "outputs": [],
   "source": [
    "img.resizeImagesInFolder(\"../images/preproces/square\", 300, 300)\n",
    "img.addObjectImagesInFolder(\"../images/preproces/square\", \"square\")"
   ]
  },
  {
   "cell_type": "markdown",
   "metadata": {},
   "source": [
    "Trójkąt"
   ]
  },
  {
   "cell_type": "code",
   "execution_count": 42,
   "metadata": {},
   "outputs": [],
   "source": [
    "try:\n",
    "    os.mkdir(\"../images/preproces/triangle\")\n",
    "except:\n",
    "    pass\n",
    "img.copyFilesToAnotherFolder(\"../images/triangle\", \"../images/preproces/triangle\", \"triangle_\")"
   ]
  },
  {
   "cell_type": "code",
   "execution_count": null,
   "metadata": {},
   "outputs": [],
   "source": [
    "img.resizeImagesInFolder(\"../images/preproces/triangle\", 300, 300)\n",
    "img.addObjectImagesInFolder(\"../images/preproces/triangle\", \"triangle\")"
   ]
  },
  {
   "cell_type": "markdown",
   "metadata": {},
   "source": [
    "Przenoszenie do folderu data/train"
   ]
  },
  {
   "cell_type": "code",
   "execution_count": 8,
   "metadata": {},
   "outputs": [],
   "source": [
    "try:\n",
    "    shutil.rmtree(\"../data\")\n",
    "    os.mkdir(\"../data\")\n",
    "    os.mkdir(\"../data/train\")\n",
    "except:\n",
    "    pass\n",
    "img.copyFilesToAnotherFolder(\"../images/preproces/square\", \"../data/train\", \"square_\")\n",
    "img.copyFilesToAnotherFolder(\"../images/preproces/triangle\", \"../data/train\", \"triangle_\")"
   ]
  },
  {
   "cell_type": "markdown",
   "metadata": {},
   "source": [
    "Prznoszenie losowych 20% plikow do folderu data/test"
   ]
  },
  {
   "cell_type": "code",
   "execution_count": 19,
   "metadata": {},
   "outputs": [
    {
     "name": "stdout",
     "output_type": "stream",
     "text": [
      "138\n"
     ]
    }
   ],
   "source": [
    "file_for_eval = []\n",
    "for root, dirs, files in os.walk(\"../data/train\"):\n",
    "    square = list(filter(lambda x: \"square\" in x, files))\n",
    "    random.shuffle(square)\n",
    "    triangle = list(filter(lambda x: \"triangle\" in x, files))\n",
    "    random.shuffle(triangle)\n",
    "    file_for_eval += (square[:int((len(files)*0.2)/2)])\n",
    "    file_for_eval += (triangle[:int((len(files)*0.2)/2)])\n",
    "    random.shuffle(file_for_eval)\n",
    "    print(len(file_for_eval))\n",
    "    break"
   ]
  },
  {
   "cell_type": "code",
   "execution_count": 21,
   "metadata": {},
   "outputs": [],
   "source": [
    "try:\n",
    "    shutil.rmtree(\"../data/test\")\n",
    "except:\n",
    "    pass\n",
    "\n",
    "try:\n",
    "    os.mkdir(\"../data/test\")\n",
    "except:\n",
    "    pass"
   ]
  },
  {
   "cell_type": "code",
   "execution_count": 22,
   "metadata": {},
   "outputs": [],
   "source": [
    "for file in file_for_eval:\n",
    "    image = cv2.imread(\"../images/preproces/\"+file.split('_')[0]+\"/\"+file)\n",
    "    if np.array(image,dtype=np.float64).sum() > 1:\n",
    "        cv2.imwrite(\"../data/test/\"+file, np.array(image,dtype=np.float64))\n",
    "        os.remove(\"../data/train/\"+file)"
   ]
  },
  {
   "cell_type": "code",
   "execution_count": 32,
   "metadata": {},
   "outputs": [],
   "source": [
    "img.createTriangle()\n",
    "img.placeRandom(\"../Class_object_image/triangle.jpg\", \"../never_seen_images/pudzian/kozak.jpg\")"
   ]
  },
  {
   "cell_type": "code",
   "execution_count": null,
   "metadata": {},
   "outputs": [],
   "source": []
  }
 ],
 "metadata": {
  "kernelspec": {
   "display_name": "Python 3",
   "language": "python",
   "name": "python3"
  },
  "language_info": {
   "codemirror_mode": {
    "name": "ipython",
    "version": 3
   },
   "file_extension": ".py",
   "mimetype": "text/x-python",
   "name": "python",
   "nbconvert_exporter": "python",
   "pygments_lexer": "ipython3",
   "version": "3.6.8"
  }
 },
 "nbformat": 4,
 "nbformat_minor": 2
}
