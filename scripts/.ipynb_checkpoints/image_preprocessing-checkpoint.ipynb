{
 "cells": [
  {
   "cell_type": "code",
   "execution_count": 1,
   "metadata": {},
   "outputs": [],
   "source": [
    "from imagesPrepering import ImagesForModel\n",
    "import os\n",
    "import cv2\n",
    "import numpy as np\n",
    "import matplotlib.pyplot as plt\n",
    "import random"
   ]
  },
  {
   "cell_type": "code",
   "execution_count": 2,
   "metadata": {},
   "outputs": [],
   "source": [
    "img = ImagesForModel()\n",
    "img.createTriangle()\n",
    "img.createSquare()"
   ]
  },
  {
   "cell_type": "code",
   "execution_count": 3,
   "metadata": {},
   "outputs": [],
   "source": [
    "try:\n",
    "    os.rmtree(\"../image/preproces\")\n",
    "except:\n",
    "    pass"
   ]
  },
  {
   "cell_type": "markdown",
   "metadata": {},
   "source": [
    "Kwadrat"
   ]
  },
  {
   "cell_type": "code",
   "execution_count": 4,
   "metadata": {},
   "outputs": [],
   "source": [
    "try:\n",
    "    os.mkdir(\"../images/preproces\")\n",
    "    os.mkdir(\"../images/preproces/square\")\n",
    "except:\n",
    "    pass\n",
    "img.copyFilesToAnotherFolder(\"../images/square\", \"../images/preproces/square\", \"square_0\")"
   ]
  },
  {
   "cell_type": "code",
   "execution_count": 5,
   "metadata": {},
   "outputs": [],
   "source": [
    "img.resizeImagesInFolder(\"../images/preproces/square\", 300, 300)"
   ]
  },
  {
   "cell_type": "code",
   "execution_count": 6,
   "metadata": {},
   "outputs": [],
   "source": [
    "img.addObjectImagesInFolder(\"../images/preproces/square\", \"square\")"
   ]
  },
  {
   "cell_type": "markdown",
   "metadata": {},
   "source": [
    "Kwadrat obracany"
   ]
  },
  {
   "cell_type": "code",
   "execution_count": 7,
   "metadata": {},
   "outputs": [],
   "source": [
    "try:\n",
    "    os.mkdir(\"../images/preproces/square_altered\")\n",
    "except:\n",
    "    pass\n",
    "img.copyFilesToAnotherFolder(\"../images/square_altered\", \"../images/preproces/square_altered\", \"square_altered_\")"
   ]
  },
  {
   "cell_type": "code",
   "execution_count": 8,
   "metadata": {},
   "outputs": [],
   "source": [
    "img.resizeImagesInFolder(\"../images/preproces/square_altered\", 300, 300)\n",
    "img.addObjectImagesInFolder(\"../images/preproces/square_altered\", \"square\", True)"
   ]
  },
  {
   "cell_type": "markdown",
   "metadata": {},
   "source": [
    "Trójkąt"
   ]
  },
  {
   "cell_type": "code",
   "execution_count": 9,
   "metadata": {},
   "outputs": [],
   "source": [
    "try:\n",
    "    os.mkdir(\"../images/preproces/triangle\")\n",
    "except:\n",
    "    pass\n",
    "img.copyFilesToAnotherFolder(\"../images/triangle\", \"../images/preproces/triangle\", \"triangle_0\")"
   ]
  },
  {
   "cell_type": "code",
   "execution_count": 10,
   "metadata": {},
   "outputs": [],
   "source": [
    "img.resizeImagesInFolder(\"../images/preproces/triangle\", 300, 300)\n",
    "img.addObjectImagesInFolder(\"../images/preproces/triangle\", \"triangle\")"
   ]
  },
  {
   "cell_type": "markdown",
   "metadata": {},
   "source": [
    "Trójkąt obracany"
   ]
  },
  {
   "cell_type": "code",
   "execution_count": 11,
   "metadata": {},
   "outputs": [],
   "source": [
    "try:\n",
    "    os.mkdir(\"../images/preproces/triangle_altered\")\n",
    "except:\n",
    "    pass\n",
    "img.copyFilesToAnotherFolder(\"../images/triangle_altered\", \"../images/preproces/triangle_altered\", \"triangle_altered_\")"
   ]
  },
  {
   "cell_type": "code",
   "execution_count": 12,
   "metadata": {},
   "outputs": [],
   "source": [
    "img.resizeImagesInFolder(\"../images/preproces/triangle_altered\", 300, 300)\n",
    "img.addObjectImagesInFolder(\"../images/preproces/triangle_altered\", \"triangle\", True)"
   ]
  },
  {
   "cell_type": "markdown",
   "metadata": {},
   "source": [
    "Przenoszenie do folderu data/train"
   ]
  },
  {
   "cell_type": "code",
   "execution_count": 28,
   "metadata": {},
   "outputs": [],
   "source": [
    "try:\n",
    "    shutil.rmtree(\"../data/train1\")\n",
    "except:\n",
    "    pass\n",
    "\n",
    "try:\n",
    "    os.mkdir(\"../data/train1\")\n",
    "except:\n",
    "    pass"
   ]
  },
  {
   "cell_type": "code",
   "execution_count": 29,
   "metadata": {},
   "outputs": [],
   "source": [
    "img.copyFilesToAnotherFolder(\"../images/preproces/triangle\", \"../data/train1\", \"triangle_0\")\n",
    "img.copyFilesToAnotherFolder(\"../images/preproces/triangle_altered\", \"../data/train1\", \"triangle\")"
   ]
  },
  {
   "cell_type": "code",
   "execution_count": 30,
   "metadata": {},
   "outputs": [],
   "source": [
    "img.copyFilesToAnotherFolder(\"../images/preproces/square\", \"../data/train1\", \"square_0\")\n",
    "img.copyFilesToAnotherFolder(\"../images/preproces/square_altered\", \"../data/train1\", \"square\")"
   ]
  },
  {
   "cell_type": "markdown",
   "metadata": {},
   "source": [
    "Prznoszenie losowych 20% plikow do folderu data/test"
   ]
  },
  {
   "cell_type": "code",
   "execution_count": null,
   "metadata": {},
   "outputs": [],
   "source": [
    "file_for_eval = []\n",
    "for root, dirs, files in os.walk(\"../data/train1\"):\n",
    "    square = list(filter(lambda x: \"square\" in x, files))\n",
    "    random.shuffle(square)\n",
    "    triangle = list(filter(lambda x: \"triangle\" in x, files))\n",
    "    random.shuffle(triangle)\n",
    "    file_for_eval += (square[:int((len(files)*0.2)/2)])\n",
    "    file_for_eval += (triangle[:int((len(files)*0.2)/2)])\n",
    "    random.shuffle(file_for_eval)\n",
    "    print(len(file_for_eval))\n",
    "    break"
   ]
  },
  {
   "cell_type": "code",
   "execution_count": null,
   "metadata": {},
   "outputs": [],
   "source": [
    "try:\n",
    "    shutil.rmtree(\"../data/test1\")\n",
    "except:\n",
    "    pass\n",
    "\n",
    "try:\n",
    "    os.mkdir(\"../data/test1\")\n",
    "except:\n",
    "    pass"
   ]
  },
  {
   "cell_type": "code",
   "execution_count": null,
   "metadata": {},
   "outputs": [],
   "source": [
    "for file in file_for_eval:\n",
    "    image = cv2.imread(\"../images/preproces/\"+file.split('_')[0]+\"/\"+file)\n",
    "    if np.array(image,dtype=np.float64).sum() > 1:\n",
    "        cv2.imwrite(\"../data/test1/\"+file, np.array(image,dtype=np.float64))\n",
    "        os.remove(\"../data/train1/\"+file)"
   ]
  },
  {
   "cell_type": "code",
   "execution_count": null,
   "metadata": {},
   "outputs": [],
   "source": [
    "img.createTriangle()\n",
    "img.placeRandom(\"../Class_object_image/triangle.jpg\", \"../never_seen_images/pudzian/kozak.jpg\")"
   ]
  },
  {
   "cell_type": "code",
   "execution_count": null,
   "metadata": {},
   "outputs": [],
   "source": []
  }
 ],
 "metadata": {
  "kernelspec": {
   "display_name": "Python 3",
   "language": "python",
   "name": "python3"
  },
  "language_info": {
   "codemirror_mode": {
    "name": "ipython",
    "version": 3
   },
   "file_extension": ".py",
   "mimetype": "text/x-python",
   "name": "python",
   "nbconvert_exporter": "python",
   "pygments_lexer": "ipython3",
   "version": "3.6.8"
  }
 },
 "nbformat": 4,
 "nbformat_minor": 2
}
